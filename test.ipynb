{
 "cells": [
  {
   "cell_type": "code",
   "execution_count": 17,
   "metadata": {},
   "outputs": [],
   "source": [
    "import pandas as pd\n",
    "import numpy as np\n",
    "import matplotlib.pyplot as plt\n",
    "from statsmodels.tsa.seasonal import seasonal_decompose\n",
    "from sklearn.metrics import mean_squared_error, mean_absolute_percentage_error\n",
    "from statsmodels.tsa.statespace.sarimax import SARIMAX\n",
    "from math import sqrt\n",
    "import pickle\n",
    "\n",
    "from sarthak_eda import resample"
   ]
  },
  {
   "cell_type": "code",
   "execution_count": 20,
   "metadata": {},
   "outputs": [
    {
     "name": "stderr",
     "output_type": "stream",
     "text": [
      "c:\\Users\\samoc\\Desktop\\DSCI590Streamlit\\sarthak_eda.py:87: FutureWarning: The provided callable <function mean at 0x0000020EFFCCB010> is currently using SeriesGroupBy.mean. In a future version of pandas, the provided callable will be used directly. To keep current behavior pass the string \"mean\" instead.\n",
      "  df_nums=df_nums.resample('D').agg({'pm10':np.mean,'nh3':np.mean,\n",
      "c:\\Users\\samoc\\Desktop\\DSCI590Streamlit\\sarthak_eda.py:96: FutureWarning: The provided callable <function mean at 0x0000020EFFCCB010> is currently using SeriesGroupBy.mean. In a future version of pandas, the provided callable will be used directly. To keep current behavior pass the string \"mean\" instead.\n",
      "  df_nums=df_nums.groupby(by='date').agg({'pm10':np.mean,'nh3':np.mean,\n",
      "c:\\Users\\samoc\\AppData\\Local\\Programs\\Python\\Python310\\lib\\site-packages\\statsmodels\\tsa\\base\\tsa_model.py:473: ValueWarning: No frequency information was provided, so inferred frequency D will be used.\n",
      "  self._init_dates(dates, freq)\n",
      "c:\\Users\\samoc\\AppData\\Local\\Programs\\Python\\Python310\\lib\\site-packages\\statsmodels\\tsa\\base\\tsa_model.py:473: ValueWarning: No frequency information was provided, so inferred frequency D will be used.\n",
      "  self._init_dates(dates, freq)\n"
     ]
    },
    {
     "name": "stdout",
     "output_type": "stream",
     "text": [
      "date\n",
      "2022-08-18     45.106250\n",
      "2022-08-19     41.465000\n",
      "2022-08-20    181.294167\n",
      "2022-08-21     79.108750\n",
      "2022-08-22     68.063333\n",
      "Name: pm2_5, dtype: float64\n"
     ]
    }
   ],
   "source": [
    "_,df=resample(\"D\")\n",
    "\n",
    "df.fillna(df.mean(),inplace=True)\n",
    "\n",
    "df.set_index('date',inplace=True)\n",
    "count_df=round((df.shape[0]*0.8)+3)\n",
    "train_df=df['pm2_5'].iloc[:count_df]\n",
    "\n",
    "#df_work['pm2_5'].iloc[:split_point]\n",
    "\n",
    "print(train_df.tail())\n",
    "\n",
    "#save model\n",
    "final_model = SARIMAX(train_df, order=(3, 0, 0), seasonal_order=(0, 1, 1, 12))\n",
    "final_model_fit = final_model.fit()\n",
    "with open('final_sarimax_model.pkl', 'wb') as file:\n",
    "    pickle.dump(final_model_fit, file)"
   ]
  },
  {
   "cell_type": "code",
   "execution_count": 19,
   "metadata": {},
   "outputs": [
    {
     "name": "stdout",
     "output_type": "stream",
     "text": [
      "2022-08-23    89.236434\n",
      "2022-08-24    85.266602\n",
      "2022-08-25    73.491513\n",
      "2022-08-26    69.089427\n",
      "2022-08-27    66.971172\n",
      "2022-08-28    63.107253\n",
      "2022-08-29    58.957581\n",
      "2022-08-30    55.567265\n",
      "2022-08-31    52.498867\n",
      "2022-09-01    49.463167\n",
      "2022-09-02    46.571639\n",
      "2022-09-03    43.886946\n",
      "2022-09-04    41.364668\n",
      "2022-09-05    38.976880\n",
      "2022-09-06    36.725090\n",
      "2022-09-07    34.606281\n",
      "2022-09-08    32.610148\n",
      "2022-09-09    30.728357\n",
      "2022-09-10    28.955057\n",
      "2022-09-11    27.284312\n",
      "Freq: D, Name: predicted_mean, dtype: float64\n"
     ]
    },
    {
     "data": {
      "image/png": "[encoded data removed]",
      "text/plain": [
       "<Figure size 720x360 with 1 Axes>"
      ]
     },
     "metadata": {
      "needs_background": "light"
     },
     "output_type": "display_data"
    }
   ],
   "source": [
    "forecast = final_model_fit.get_forecast(steps=20)\n",
    "\n",
    "forecast_mean = forecast.predicted_mean\n",
    "print(forecast_mean)\n",
    "plt.figure(figsize=(10, 5))\n",
    "\n",
    "plt.plot(forecast_mean, label='Forecast', color='red')\n",
    "\n",
    "plt.title('SARIMAX Forecast')\n",
    "plt.legend()\n",
    "plt.show()"
   ]
  }
 ],
 "metadata": {
  "kernelspec": {
   "display_name": "Python 3",
   "language": "python",
   "name": "python3"
  },
  "language_info": {
   "codemirror_mode": {
    "name": "ipython",
    "version": 3
   },
   "file_extension": ".py",
   "mimetype": "text/x-python",
   "name": "python",
   "nbconvert_exporter": "python",
   "pygments_lexer": "ipython3",
   "version": "3.10.0"
  }
 },
 "nbformat": 4,
 "nbformat_minor": 2
}
